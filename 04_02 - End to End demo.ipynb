{
    "cells": [
        {
            "cell_type": "code",
            "execution_count": null,
            "metadata": {
                "polyglot_notebook": {
                    "kernelName": "csharp"
                }
            },
            "outputs": [],
            "source": [
                "#r \"nuget: Microsoft.DotNet.Interactive.SqlServer, *-*\""
            ]
        },
        {
            "cell_type": "code",
            "execution_count": null,
            "metadata": {
                "polyglot_notebook": {
                    "kernelName": "csharp"
                }
            },
            "outputs": [],
            "source": [
                "#!connect mssql --kernel-name sql2025 --connection-string \"Server=SQL2025;TrustServerCertificate=True;Integrated Security=True\""
            ]
        },
        {
            "cell_type": "code",
            "execution_count": null,
            "metadata": {
                "polyglot_notebook": {
                    "kernelName": "sql-sql2025"
                }
            },
            "outputs": [],
            "source": [
                "SELECT @@VERSION"
            ]
        },
        {
            "cell_type": "code",
            "execution_count": null,
            "metadata": {
                "polyglot_notebook": {
                    "kernelName": "sql-sql2025"
                }
            },
            "outputs": [],
            "source": [
                "USE LinkedInCourseDB\n"
            ]
        },
        {
            "cell_type": "markdown",
            "metadata": {
                "language_info": {
                    "name": "polyglot-notebook"
                },
                "polyglot_notebook": {
                    "kernelName": "sql-sql2025"
                }
            },
            "source": [
                "Get your API Key at: https://www.nps.gov/subjects/developer/get-started.htm"
            ]
        },
        {
            "cell_type": "code",
            "execution_count": null,
            "metadata": {
                "polyglot_notebook": {
                    "kernelName": "sql-sql2025"
                }
            },
            "outputs": [],
            "source": [
                "CREATE DATABASE SCOPED CREDENTIAL [https://developer.nps.gov/]\n",
                "WITH IDENTITY = 'HttpEndpointQueryString', SECRET = '{\"api_key\":\"XXX\"}'"
            ]
        },
        {
            "cell_type": "code",
            "execution_count": null,
            "metadata": {
                "language_info": {
                    "name": "polyglot-notebook"
                },
                "polyglot_notebook": {
                    "kernelName": "sql-sql2025"
                }
            },
            "outputs": [],
            "source": [
                "IF  EXISTS (SELECT * FROM sys.objects WHERE object_id = OBJECT_ID(N'[dbo].[NPS_Places]') AND type in (N'U'))\n",
                "DROP TABLE [dbo].[NPS_Places]\n",
                "GO\n",
                "CREATE TABLE [dbo].[NPS_Places](\n",
                "\t[ID] [int] IDENTITY(1,1) NOT NULL,\n",
                "\t[ParkId] [nvarchar](100) NULL,\n",
                "\t[ParkName] [nvarchar](500) NULL,\n",
                "\t[weburl] [nvarchar](500) NULL,\n",
                "\t[PlaceName] [nvarchar](500) NULL,\n",
                "\t[Description_Short] [nvarchar](max) NULL,\n",
                "\t[Description_Long] [nvarchar](max) NULL,\n",
                "\t[Description_Summary] [nvarchar](max) NULL,\n",
                "\t[latitude] float NULL,\n",
                "\t[longitude] float NULL,\n",
                "\t[isOpenToPublic] [nvarchar](10) NULL,\n",
                "\t[Embeddings_Chunk] [nvarchar](max) NULL\n",
                ") ON [PRIMARY] TEXTIMAGE_ON [PRIMARY]"
            ]
        },
        {
            "cell_type": "code",
            "execution_count": null,
            "metadata": {
                "language_info": {
                    "name": "polyglot-notebook"
                },
                "polyglot_notebook": {
                    "kernelName": "sql-sql2025"
                }
            },
            "outputs": [],
            "source": [
                "IF  EXISTS (SELECT * FROM sys.objects WHERE object_id = OBJECT_ID(N'[dbo].[NPS_Places_Stage]') AND type in (N'U'))\n",
                "DROP TABLE [dbo].[NPS_Places_Stage]\n",
                "GO\n",
                "CREATE TABLE [dbo].[NPS_Places_Stage](\n",
                "\t[ParkId] [nvarchar](100) NULL,\n",
                "\t[ParkName] [nvarchar](500) NULL,\n",
                "\t[weburl] [nvarchar](500) NULL,\n",
                "\t[PlaceName] [nvarchar](500) NULL,\n",
                "\t[Description_Short] [nvarchar](max) NULL,\n",
                "\t[Description_Long] [nvarchar](max) NULL,\n",
                "\t[latitude] float NULL,\n",
                "\t[longitude] float NULL,\n",
                "\t[isOpenToPublic] [nvarchar](10) NULL\n",
                ") ON [PRIMARY] TEXTIMAGE_ON [PRIMARY]"
            ]
        },
        {
            "cell_type": "code",
            "execution_count": null,
            "metadata": {
                "language_info": {
                    "name": "polyglot-notebook"
                },
                "polyglot_notebook": {
                    "kernelName": "sql-sql2025"
                }
            },
            "outputs": [],
            "source": [
                "CREATE UNIQUE CLUSTERED INDEX IDX_ID \n",
                "ON NPS_Places (ID)"
            ]
        },
        {
            "cell_type": "code",
            "execution_count": null,
            "metadata": {
                "polyglot_notebook": {
                    "kernelName": "sql-sql2025"
                }
            },
            "outputs": [],
            "source": [
                "SET NOCOUNT ON\n",
                "TRUNCATE TABLE NPS_Places_Stage\n",
                "DECLARE @response NVARCHAR(max)\n",
                "Declare @limit int = 1000\n",
                "declare @start int = 1\n",
                "declare @total int = 1\n",
                "declare @url nvarchar(500)\n",
                "\n",
                "\n",
                "WHILE @start <= @total\n",
                "BEGIN\n",
                "    SET @url = 'https://developer.nps.gov/api/v1/places?limit=' + LTRIM(STR(@limit)) + '&start=' + LTRIM(STR(@start))\n",
                "\n",
                "    EXEC sp_invoke_external_rest_endpoint\n",
                "      @url = @url,\n",
                "      @credential = [https://developer.nps.gov/],\n",
                "      @method = 'GET',\n",
                "      @response = @response OUTPUT\n",
                "    SELECT @total=[value] FROM   Openjson(Json_query(@response, '$.result')) A where [key] = 'total'\n",
                "    INSERT INTO NPS_Places_Stage (\n",
                "        [ParkId],\n",
                "        [ParkName],\n",
                "        [weburl],\n",
                "        [PlaceName],\n",
                "        [Description_Short],\n",
                "        [Description_Long],\n",
                "        [latitude],\n",
                "        [longitude],\n",
                "        [isOpenToPublic]\n",
                "    )\n",
                "    SELECT \n",
                "      id,\n",
                "      relatedParkFullName,\n",
                "      url,\n",
                "      title,\n",
                "      listingDescription,\n",
                "      bodyText,\n",
                "      latitude,\n",
                "      longitude,\n",
                "      isOpenToPublic\n",
                "    FROM OPENJSON(JSON_QUERY(@response, '$.result.data'))\n",
                "    WITH (\n",
                "        id NVARCHAR(100) '$.id',\n",
                "        url NVARCHAR(500) '$.url',\n",
                "        title NVARCHAR(500) '$.title',\n",
                "        listingDescription NVARCHAR(MAX) '$.listingDescription',\n",
                "        bodyText NVARCHAR(MAX) '$.bodyText',\n",
                "        latitude NVARCHAR(50) '$.latitude',\n",
                "        longitude NVARCHAR(50) '$.longitude',\n",
                "        isOpenToPublic NVARCHAR(10) '$.isOpenToPublic',\n",
                "        relatedParkFullName NVARCHAR(500) '$.relatedParks[0].fullName'\n",
                "    )\n",
                "\n",
                "    SET @start = @start + @limit\n",
                "END\n",
                "SET NOCOUNT OFF"
            ]
        },
        {
            "cell_type": "code",
            "execution_count": null,
            "metadata": {
                "language_info": {
                    "name": "polyglot-notebook"
                },
                "polyglot_notebook": {
                    "kernelName": "sql-sql2025"
                }
            },
            "outputs": [],
            "source": [
                "DELETE FROM NPS_Places_Stage WHERE Latitude = 0 or Longitude = 0 or IsOpenToPublic = 0 or ParkName is NULL"
            ]
        },
        {
            "cell_type": "code",
            "execution_count": null,
            "metadata": {
                "language_info": {
                    "name": "polyglot-notebook"
                },
                "polyglot_notebook": {
                    "kernelName": "sql-sql2025"
                }
            },
            "outputs": [],
            "source": [
                "INSERT INTO NPS_Places ([ParkId]\n",
                "      ,[ParkName]\n",
                "      ,[weburl]\n",
                "      ,[PlaceName]\n",
                "      ,[Description_Short]\n",
                "      ,[Description_Long]\n",
                "      ,[latitude]\n",
                "      ,[longitude]\n",
                "      ,[isOpenToPublic])\n",
                "SELECT [ParkId]\n",
                "      ,[ParkName]\n",
                "      ,[weburl]\n",
                "      ,[PlaceName]\n",
                "      ,[Description_Short]\n",
                "      ,[Description_Long]\n",
                "      ,[latitude]\n",
                "      ,[longitude]\n",
                "      ,[isOpenToPublic]\n",
                "  FROM [NPS_Places_Stage] WHERE NOT [ParkId] in (SELECT [ParkId] FROM NPS_Places)\n"
            ]
        },
        {
            "cell_type": "code",
            "execution_count": null,
            "metadata": {
                "language_info": {
                    "name": "polyglot-notebook"
                },
                "polyglot_notebook": {
                    "kernelName": "sql-sql2025"
                }
            },
            "outputs": [],
            "source": [
                "DELETE FROM NPS_Places WHERE NOT [ParkId] in (SELECT [ParkId] FROM NPS_Places_Stage)"
            ]
        },
        {
            "cell_type": "code",
            "execution_count": null,
            "metadata": {
                "language_info": {
                    "name": "polyglot-notebook"
                },
                "polyglot_notebook": {
                    "kernelName": "sql-sql2025"
                }
            },
            "outputs": [],
            "source": [
                "SELECT COUNT(*) FROM NPS_Places"
            ]
        },
        {
            "cell_type": "code",
            "execution_count": null,
            "metadata": {
                "language_info": {
                    "name": "polyglot-notebook"
                },
                "polyglot_notebook": {
                    "kernelName": "sql-sql2025"
                }
            },
            "outputs": [],
            "source": [
                "SELECT TOP 1 * FROM NPS_Places"
            ]
        },
        {
            "cell_type": "code",
            "execution_count": null,
            "metadata": {
                "language_info": {
                    "name": "polyglot-notebook"
                },
                "polyglot_notebook": {
                    "kernelName": "sql-sql2025"
                }
            },
            "outputs": [],
            "source": [
                "UPDATE NPS_Places SET Embeddings_Chunk = \n",
                "   PlaceName + ' (located at: ' + isnull(ParkName,'') + ') - ' + Description_Long"
            ]
        },
        {
            "cell_type": "code",
            "execution_count": null,
            "metadata": {
                "language_info": {
                    "name": "polyglot-notebook"
                },
                "polyglot_notebook": {
                    "kernelName": "sql-sql2025"
                }
            },
            "outputs": [],
            "source": [
                "SELECT c.*\n",
                "FROM NPS_Places p\n",
                "CROSS APPLY\n",
                "   AI_GENERATE_CHUNKS(source = p.Embeddings_Chunk, \n",
                "   chunk_type = FIXED, \n",
                "   chunk_size = 150, \n",
                "   enable_chunk_set_id = 1) c\n",
                "WHERE id =1"
            ]
        },
        {
            "cell_type": "code",
            "execution_count": null,
            "metadata": {
                "language_info": {
                    "name": "polyglot-notebook"
                },
                "polyglot_notebook": {
                    "kernelName": "sql-sql2025"
                }
            },
            "outputs": [],
            "source": [
                "IF  EXISTS (SELECT * FROM sys.objects WHERE object_id = OBJECT_ID(N'[dbo].[NPS_Places_Embeddings]') AND type in (N'U'))\n",
                "DROP TABLE [dbo].[NPS_Places_Embeddings]\n",
                "GO\n",
                "CREATE TABLE [dbo].[NPS_Places_Embeddings](\n",
                "    [Id] [int] IDENTITY(1,1) NOT NULL,\n",
                "\t[ParkId] [int] NOT NULL,\n",
                "\t[Chunk] [nvarchar](max) NULL,\n",
                "\t[Embeddings] [vector](768) NULL,\n",
                "\t[Embeddings_Calculated] datetime NULL\n",
                ") ON [PRIMARY] TEXTIMAGE_ON [PRIMARY]"
            ]
        },
        {
            "cell_type": "code",
            "execution_count": null,
            "metadata": {
                "language_info": {
                    "name": "polyglot-notebook"
                },
                "polyglot_notebook": {
                    "kernelName": "sql-sql2025"
                }
            },
            "outputs": [],
            "source": [
                "INSERT INTO NPS_Places_Embeddings (ParkId,Chunk)\n",
                "SELECT id ParkId,c.Chunk\n",
                "FROM NPS_Places p \n",
                "CROSS APPLY\n",
                "   AI_GENERATE_CHUNKS(source = p.Embeddings_Chunk, \n",
                "   chunk_type = FIXED, \n",
                "   -- Deliberately too high chunk_size!\n",
                "   chunk_size = 2500, \n",
                "   enable_chunk_set_id = 1) c\n",
                "WHERE NOT ID in (SELECT ParkId FROM NPS_Places_Embeddings)"
            ]
        },
        {
            "cell_type": "code",
            "execution_count": null,
            "metadata": {
                "language_info": {
                    "name": "polyglot-notebook"
                },
                "polyglot_notebook": {
                    "kernelName": "sql-sql2025"
                }
            },
            "outputs": [],
            "source": [
                "CREATE EVENT SESSION [AIMonitor] ON SERVER \n",
                "ADD EVENT sqlserver.ai_generate_embeddings_stats,\n",
                "ADD EVENT sqlserver.ai_generate_embeddings_summary,\n",
                "ADD EVENT sqlserver.external_rest_endpoint_invocation_attempt,\n",
                "ADD EVENT sqlserver.external_rest_endpoint_summary\n",
                "--WITH (STARTUP_STATE=ON)\n",
                "GO\n",
                "--ALTER EVENT SESSION [AIMonitor] ON SERVER STATE = START"
            ]
        },
        {
            "cell_type": "code",
            "execution_count": null,
            "metadata": {
                "language_info": {
                    "name": "polyglot-notebook"
                },
                "polyglot_notebook": {
                    "kernelName": "sql-sql2025"
                }
            },
            "outputs": [],
            "source": [
                "SET NOCOUNT ON\n",
                "DECLARE \n",
                "    @id NVARCHAR(100),\n",
                "    @chunk NVARCHAR(MAX)\n",
                "\n",
                "DECLARE row_cursor CURSOR FOR\n",
                "    SELECT Id, Chunk \n",
                "    FROM NPS_Places_Embeddings \n",
                "    WHERE embeddings IS NULL\n",
                "    ORDER BY ID\n",
                "\n",
                "OPEN row_cursor\n",
                "\n",
                "FETCH NEXT FROM row_cursor INTO @id, @chunk\n",
                "\n",
                "WHILE @@FETCH_STATUS = 0\n",
                "BEGIN\n",
                "    UPDATE NPS_Places_Embeddings\n",
                "    SET Embeddings_Calculated = getdate(),\n",
                "    Embeddings = AI_GENERATE_EMBEDDINGS(Chunk USE MODEL ollama)\n",
                "    WHERE Id = @id\n",
                "\n",
                "    FETCH NEXT FROM row_cursor INTO @id, @chunk\n",
                "END\n",
                "\n",
                "CLOSE row_cursor\n",
                "DEALLOCATE row_cursor\n",
                "SET NOCOUNT OFF"
            ]
        },
        {
            "cell_type": "code",
            "execution_count": null,
            "metadata": {
                "language_info": {
                    "name": "polyglot-notebook"
                },
                "polyglot_notebook": {
                    "kernelName": "sql-sql2025"
                }
            },
            "outputs": [],
            "source": [
                "DROP EVENT SESSION [AIMonitor] ON SERVER "
            ]
        },
        {
            "cell_type": "code",
            "execution_count": null,
            "metadata": {
                "language_info": {
                    "name": "polyglot-notebook"
                },
                "polyglot_notebook": {
                    "kernelName": "sql-sql2025"
                }
            },
            "outputs": [],
            "source": [
                "DECLARE @response NVARCHAR(max)\n",
                "\n",
                "EXEC Sp_invoke_external_rest_endpoint\n",
                "  @url = N'https://nominatim.openstreetmap.org/search?q=Boston,MA&format=json',\n",
                "  @method = 'GET',\n",
                "  @response = @response output\n",
                "\n",
                "SELECT Json_value(value, '$.lat') lat,Json_value(value, '$.lon') lon FROM OPENJSON(JSON_QUERY(@response, '$.result'))"
            ]
        },
        {
            "cell_type": "code",
            "execution_count": null,
            "metadata": {
                "language_info": {
                    "name": "polyglot-notebook"
                },
                "polyglot_notebook": {
                    "kernelName": "sql-sql2025"
                }
            },
            "outputs": [],
            "source": [
                "CREATE OR ALTER FUNCTION dbo.GetNearbyPlaces\n",
                "(\n",
                "    @lat FLOAT,\n",
                "    @lon FLOAT,\n",
                "    @radius FLOAT \n",
                ")\n",
                "RETURNS TABLE\n",
                "AS\n",
                "RETURN\n",
                "(\n",
                "    SELECT * FROM (\n",
                "    SELECT \n",
                "        *,\n",
                "        3959 * ACOS(\n",
                "            COS(RADIANS(@lat)) * COS(RADIANS(latitude)) *\n",
                "            COS(RADIANS(longitude) - RADIANS(@lon)) +\n",
                "            SIN(RADIANS(@lat)) * SIN(RADIANS(latitude))\n",
                "        ) AS DistanceInMiles\n",
                "    FROM NPS_Places\n",
                "    WHERE \n",
                "        latitude IS NOT NULL AND \n",
                "        longitude IS NOT NULL) A \n",
                "        WHERE DistanceInMiles <= @radius\n",
                ")"
            ]
        },
        {
            "cell_type": "code",
            "execution_count": null,
            "metadata": {
                "language_info": {
                    "name": "polyglot-notebook"
                },
                "polyglot_notebook": {
                    "kernelName": "sql-sql2025"
                }
            },
            "outputs": [],
            "source": [
                "DECLARE @radius Float = 10\n",
                "DECLARE @place NVARCHAR(100) = 'Boston,MA'\n",
                "DECLARE @lat Float\n",
                "DECLARE @lon Float\n",
                "DECLARE @response NVARCHAR(max)\n",
                "DECLARE @url NVARCHAR(max) = N'https://nominatim.openstreetmap.org/search?q=' + @place + '&format=json'\n",
                "EXEC Sp_invoke_external_rest_endpoint\n",
                "  @url = @url,\n",
                "  @method = 'GET',\n",
                "  @response = @response output\n",
                "\n",
                "SELECT @lat=Json_value(value, '$.lat') ,@lon=Json_value(value, '$.lon')  FROM OPENJSON(JSON_QUERY(@response, '$.result'))\n",
                "\n",
                "SELECT TOP 10 ParkName,PlaceName,Description_Summary FROM dbo.GetNearbyPlaces(@lat, @lon, @radius)"
            ]
        },
        {
            "cell_type": "code",
            "execution_count": null,
            "metadata": {
                "language_info": {
                    "name": "polyglot-notebook"
                },
                "polyglot_notebook": {
                    "kernelName": "sql-sql2025"
                }
            },
            "outputs": [],
            "source": [
                "DECLARE @radius Float = 250\n",
                "DECLARE @place NVARCHAR(100) = 'Raleigh,NC'\n",
                "DECLARE @search_text NVARCHAR(MAX) = 'Aviation'\n",
                "DECLARE @search_vector VECTOR(768) = AI_GENERATE_EMBEDDINGS(@search_text USE MODEL ollama)\n",
                "DECLARE @lat Float\n",
                "DECLARE @lon Float\n",
                "DECLARE @response NVARCHAR(max)\n",
                "DECLARE @url NVARCHAR(max) = N'https://nominatim.openstreetmap.org/search?q=' + @place + '&format=json'\n",
                "EXEC Sp_invoke_external_rest_endpoint\n",
                "  @url = @url,\n",
                "  @method = 'GET',\n",
                "  @response = @response output\n",
                "\n",
                "SELECT @lat=Json_value(value, '$.lat') ,@lon=Json_value(value, '$.lon')  FROM OPENJSON(JSON_QUERY(@response, '$.result'))\n",
                "\n",
                "SELECT Top 3 ParkName,PlaceName,Distance FROM NPS_Places a INNER JOIN (\n",
                "SELECT b.ParkId,\n",
                "MIN(vector_distance('cosine', @search_vector, b.embeddings)) AS distance \n",
                "FROM dbo.GetNearbyPlaces(@lat, @lon, @radius) a \n",
                "INNER JOIN NPS_Places_Embeddings b on a.id = b.parkid\n",
                "WHERE b.embeddings is not null\n",
                "GROUP BY b.ParkId) b ON a.ID = b.ParkId order by distance"
            ]
        },
        {
            "cell_type": "code",
            "execution_count": null,
            "metadata": {
                "language_info": {
                    "name": "polyglot-notebook"
                },
                "polyglot_notebook": {
                    "kernelName": "sql-sql2025"
                }
            },
            "outputs": [],
            "source": [
                "CREATE OR ALTER PROCEDURE dbo.FindNearbyPlacesByVectorSearch\n",
                "    @place NVARCHAR(100),\n",
                "    @search_text NVARCHAR(MAX),\n",
                "    @radius FLOAT\n",
                "AS\n",
                "BEGIN\n",
                "    SET NOCOUNT ON\n",
                "\n",
                "    DECLARE \n",
                "        @lat FLOAT,\n",
                "        @lon FLOAT,\n",
                "        @response NVARCHAR(MAX),\n",
                "        @search_vector VECTOR(768),\n",
                "        @url NVARCHAR(MAX)\n",
                "\n",
                "    SET @search_vector = AI_GENERATE_EMBEDDINGS(@search_text USE MODEL ollama)\n",
                "\n",
                "    SET @url = N'https://nominatim.openstreetmap.org/search?q=' + @place + '&format=json'\n",
                "\n",
                "    EXEC sp_invoke_external_rest_endpoint\n",
                "        @url = @url,\n",
                "        @method = 'GET',\n",
                "        @response = @response OUTPUT\n",
                "\n",
                "    SELECT \n",
                "        @lat = TRY_CAST(JSON_VALUE(value, '$.lat') AS FLOAT),\n",
                "        @lon = TRY_CAST(JSON_VALUE(value, '$.lon') AS FLOAT)\n",
                "    FROM OPENJSON(JSON_QUERY(@response, '$.result'))\n",
                "\n",
                "    IF @lat IS NULL OR @lon IS NULL\n",
                "    BEGIN\n",
                "        RAISERROR('Failed to resolve location: %s', 16, 1, @place)\n",
                "        RETURN\n",
                "    END\n",
                "\n",
                "    SELECT Top 3 ParkName,PlaceName,Description_Summary,Distance \n",
                "    FROM NPS_Places a INNER JOIN (\n",
                "            SELECT b.ParkId,MIN(vector_distance('cosine', @search_vector, b.embeddings)) AS distance \n",
                "            FROM dbo.GetNearbyPlaces(@lat, @lon, @radius) a \n",
                "            INNER JOIN NPS_Places_Embeddings b on a.id = b.parkid\n",
                "            WHERE b.embeddings is not null\n",
                "            GROUP BY b.ParkId) b \n",
                "    ON a.ID = b.ParkId order by distance\n",
                "END\n"
            ]
        },
        {
            "cell_type": "code",
            "execution_count": null,
            "metadata": {
                "language_info": {
                    "name": "polyglot-notebook"
                },
                "polyglot_notebook": {
                    "kernelName": "sql-sql2025"
                }
            },
            "outputs": [],
            "source": [
                "exec FindNearbyPlacesByVectorSearch 'Orlando,FL','Space travel',150"
            ]
        },
        {
            "cell_type": "code",
            "execution_count": null,
            "metadata": {
                "language_info": {
                    "name": "polyglot-notebook"
                },
                "polyglot_notebook": {
                    "kernelName": "sql-sql2025"
                }
            },
            "outputs": [],
            "source": [
                "CREATE OR ALTER PROCEDURE dbo.CreateShortDescription\n",
                "    @Parkid int\n",
                "AS\n",
                "BEGIN\n",
                "DECLARE \n",
                "    @chunk NVARCHAR(MAX),\n",
                "    @prompt NVARCHAR(MAX),\n",
                "    @model NVARCHAR(250) = N'mistral',\n",
                "    @payload NVARCHAR(MAX),\n",
                "    @response NVARCHAR(MAX),\n",
                "    @summary NVARCHAR(MAX)\n",
                "IF EXISTS (SELECT 1 FROM NPS_Places WHERE ID = @Parkid AND Description_Summary IS NULL)\n",
                "BEGIN\n",
                "    SELECT @Chunk=embeddings_chunk FROM NPS_Places WHERE ID = @ParkId\n",
                "    SET @prompt = N'Please summarize the following description in one sentence: ' + ISNULL(@chunk, '')\n",
                "    SET @prompt = REPLACE(@prompt, '\\', '\\\\') \n",
                "    SET @prompt = REPLACE(@prompt, '\"', '\\\"') \n",
                "    SET @payload = N'{\"model\":\"' + @model + '\",\"prompt\":\"' + @prompt + '\",\"stream\": false }'\n",
                "\n",
                "    EXEC sp_invoke_external_rest_endpoint\n",
                "        @url = N'https://ai-gpu.lab.bwdemo.io:443/api/generate',\n",
                "        @payload = @payload,\n",
                "        @timeout = 230,\n",
                "        @response = @response OUTPUT\n",
                "\n",
                "    SELECT @summary = [value]\n",
                "    FROM OPENJSON(JSON_QUERY(@response, '$.result'))\n",
                "    WHERE [key] = 'response'\n",
                "\n",
                "    UPDATE NPS_Places\n",
                "    SET Description_Summary = @summary\n",
                "    WHERE Id = @Parkid\n",
                "END\n",
                "END"
            ]
        },
        {
            "cell_type": "code",
            "execution_count": null,
            "metadata": {
                "language_info": {
                    "name": "polyglot-notebook"
                },
                "polyglot_notebook": {
                    "kernelName": "sql-sql2025"
                }
            },
            "outputs": [],
            "source": [
                "SELECT Description_Summary FROM NPS_Places WHERE ID = 1"
            ]
        },
        {
            "cell_type": "code",
            "execution_count": null,
            "metadata": {
                "language_info": {
                    "name": "polyglot-notebook"
                },
                "polyglot_notebook": {
                    "kernelName": "sql-sql2025"
                }
            },
            "outputs": [],
            "source": [
                "EXEC CreateShortDescription 1"
            ]
        },
        {
            "cell_type": "code",
            "execution_count": null,
            "metadata": {
                "language_info": {
                    "name": "polyglot-notebook"
                },
                "polyglot_notebook": {
                    "kernelName": "sql-sql2025"
                }
            },
            "outputs": [],
            "source": [
                "SELECT Description_Summary FROM NPS_Places WHERE ID = 1"
            ]
        },
        {
            "cell_type": "code",
            "execution_count": null,
            "metadata": {
                "language_info": {
                    "name": "polyglot-notebook"
                },
                "polyglot_notebook": {
                    "kernelName": "sql-sql2025"
                }
            },
            "outputs": [],
            "source": [
                "SET NOCOUNT ON\n",
                "DECLARE \n",
                "    @id int\n",
                "DECLARE row_cursor CURSOR FOR\n",
                "    SELECT id\n",
                "    FROM NPS_Places \n",
                "    WHERE Description_Summary IS NULL \n",
                "    ORDER BY ID\n",
                "OPEN row_cursor\n",
                "\n",
                "FETCH NEXT FROM row_cursor INTO @id\n",
                "\n",
                "WHILE @@FETCH_STATUS = 0\n",
                "BEGIN\n",
                "    EXEC CreateShortDescription @id\n",
                "    FETCH NEXT FROM row_cursor INTO @id\n",
                "END\n",
                "\n",
                "CLOSE row_cursor\n",
                "DEALLOCATE row_cursor\n",
                "SET NOCOUNT OFF"
            ]
        },
        {
            "cell_type": "code",
            "execution_count": null,
            "metadata": {
                "language_info": {
                    "name": "polyglot-notebook"
                },
                "polyglot_notebook": {
                    "kernelName": "sql-sql2025"
                }
            },
            "outputs": [],
            "source": [
                "SELECT count(*) FROM NPS_Places WHERE Description_Summary IS NOT NULL"
            ]
        },
        {
            "cell_type": "code",
            "execution_count": null,
            "metadata": {
                "language_info": {
                    "name": "polyglot-notebook"
                },
                "polyglot_notebook": {
                    "kernelName": "sql-sql2025"
                }
            },
            "outputs": [],
            "source": [
                "exec FindNearbyPlacesByVectorSearch 'Orlando,FL','Space travel',150"
            ]
        },
        {
            "cell_type": "code",
            "execution_count": null,
            "metadata": {
                "language_info": {
                    "name": "polyglot-notebook"
                },
                "polyglot_notebook": {
                    "kernelName": "sql-sql2025"
                }
            },
            "outputs": [],
            "source": [
                "CREATE OR ALTER PROCEDURE dbo.FindNearbyPlacesByVectorSearch\n",
                "    @place NVARCHAR(100),\n",
                "    @search_text NVARCHAR(MAX),\n",
                "    @radius FLOAT\n",
                "AS\n",
                "BEGIN\n",
                "    SET NOCOUNT ON\n",
                "\n",
                "    DECLARE \n",
                "        @lat FLOAT,\n",
                "        @lon FLOAT,\n",
                "        @response NVARCHAR(MAX),\n",
                "        @search_vector VECTOR(768),\n",
                "        @url NVARCHAR(MAX)\n",
                "\n",
                "    SET @search_vector = AI_GENERATE_EMBEDDINGS(@search_text USE MODEL ollama)\n",
                "\n",
                "    SET @url = N'https://nominatim.openstreetmap.org/search?q=' + @place + '&format=json'\n",
                "\n",
                "    EXEC sp_invoke_external_rest_endpoint\n",
                "        @url = @url,\n",
                "        @method = 'GET',\n",
                "        @response = @response OUTPUT\n",
                "\n",
                "    SELECT \n",
                "        @lat = TRY_CAST(JSON_VALUE(value, '$.lat') AS FLOAT),\n",
                "        @lon = TRY_CAST(JSON_VALUE(value, '$.lon') AS FLOAT)\n",
                "    FROM OPENJSON(JSON_QUERY(@response, '$.result'))\n",
                "\n",
                "    IF @lat IS NULL OR @lon IS NULL\n",
                "    BEGIN\n",
                "        RAISERROR('Failed to resolve location: %s', 16, 1, @place)\n",
                "        RETURN\n",
                "    END\n",
                "\n",
                "    SELECT Top 3 a.Id,Distance,Description_Summary INTO #Result\n",
                "    FROM NPS_Places a INNER JOIN (\n",
                "            SELECT b.ParkId,MIN(vector_distance('cosine', @search_vector, b.embeddings)) AS distance \n",
                "            FROM dbo.GetNearbyPlaces(@lat, @lon, @radius) a \n",
                "            INNER JOIN NPS_Places_Embeddings b on a.id = b.parkid\n",
                "            WHERE b.embeddings is not null\n",
                "            GROUP BY b.ParkId) b \n",
                "    ON a.ID = b.ParkId \n",
                "    order by distance\n",
                "\n",
                "    \n",
                "DECLARE \n",
                "    @id int\n",
                "DECLARE row_cursor CURSOR FOR\n",
                "    SELECT id\n",
                "    FROM #Result \n",
                "    WHERE Description_Summary IS NULL\n",
                "    ORDER BY ID\n",
                "OPEN row_cursor\n",
                "\n",
                "FETCH NEXT FROM row_cursor INTO @id\n",
                "\n",
                "WHILE @@FETCH_STATUS = 0\n",
                "BEGIN\n",
                "    EXEC CreateShortDescription @id\n",
                "    FETCH NEXT FROM row_cursor INTO @id\n",
                "END\n",
                "\n",
                "CLOSE row_cursor\n",
                "DEALLOCATE row_cursor\n",
                "\n",
                "    \n",
                "    SELECT ParkName,PlaceName,b.Description_Summary,Distance FROM #Result a \n",
                "    INNER JOIN NPS_Places b ON a.Id = b.Id\n",
                "    order by distance\n",
                "END\n"
            ]
        },
        {
            "cell_type": "code",
            "execution_count": null,
            "metadata": {
                "language_info": {
                    "name": "polyglot-notebook"
                },
                "polyglot_notebook": {
                    "kernelName": "sql-sql2025"
                }
            },
            "outputs": [],
            "source": [
                "exec FindNearbyPlacesByVectorSearch 'Orlando,FL','Space travel',150"
            ]
        }
    ],
    "metadata": {
        "kernelspec": {
            "display_name": ".NET (C#)",
            "language": "C#",
            "name": ".net-csharp"
        },
        "language_info": {
            "name": "polyglot-notebook",
            "version": ""
        },
        "polyglot_notebook": {
            "kernelInfo": {
                "defaultKernelName": "csharp",
                "items": [
                    {
                        "aliases": [],
                        "name": "csharp"
                    },
                    {
                        "aliases": [],
                        "languageName": "T-SQL",
                        "name": "sql-sql2025"
                    }
                ]
            }
        }
    },
    "nbformat": 4,
    "nbformat_minor": 2
}
