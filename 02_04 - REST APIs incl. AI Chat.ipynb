{
    "cells": [
        {
            "cell_type": "code",
            "execution_count": null,
            "metadata": {
                "polyglot_notebook": {
                    "kernelName": "csharp"
                }
            },
            "outputs": [],
            "source": [
                "#r \"nuget: Microsoft.DotNet.Interactive.SqlServer, *-*\""
            ]
        },
        {
            "cell_type": "code",
            "execution_count": null,
            "metadata": {
                "polyglot_notebook": {
                    "kernelName": "csharp"
                }
            },
            "outputs": [],
            "source": [
                "#!connect mssql --kernel-name sql2025 --connection-string \"Server=SQL2025;TrustServerCertificate=True;Integrated Security=True\""
            ]
        },
        {
            "cell_type": "code",
            "execution_count": null,
            "metadata": {
                "polyglot_notebook": {
                    "kernelName": "sql-sql2025"
                }
            },
            "outputs": [],
            "source": [
                "SELECT @@VERSION"
            ]
        },
        {
            "cell_type": "code",
            "execution_count": null,
            "metadata": {
                "polyglot_notebook": {
                    "kernelName": "sql-sql2025"
                }
            },
            "outputs": [],
            "source": [
                "USE master\n",
                "IF EXISTS (SELECT name FROM sys.databases WHERE name='LinkedInCourseDB')BEGIN\n",
                "    ALTER DATABASE LinkedInCourseDB SET SINGLE_USER WITH ROLLBACK IMMEDIATE\n",
                "    DROP DATABASE LinkedInCourseDB\n",
                "END\n",
                "GO\n",
                "CREATE DATABASE LinkedInCourseDB\n",
                "GO\n",
                "USE LinkedInCourseDB\n"
            ]
        },
        {
            "cell_type": "code",
            "execution_count": null,
            "metadata": {
                "language_info": {
                    "name": "polyglot-notebook"
                },
                "polyglot_notebook": {
                    "kernelName": "sql-sql2025"
                }
            },
            "outputs": [],
            "source": [
                "create master key encryption by password = 'MyTest!Mast3rP4ss'"
            ]
        },
        {
            "cell_type": "code",
            "execution_count": null,
            "metadata": {
                "language_info": {
                    "name": "polyglot-notebook"
                },
                "polyglot_notebook": {
                    "kernelName": "sql-sql2025"
                }
            },
            "outputs": [],
            "source": [
                "sp_configure 'external rest endpoint enabled', 1\n",
                "RECONFIGURE WITH OVERRIDE"
            ]
        },
        {
            "cell_type": "code",
            "execution_count": null,
            "metadata": {
                "language_info": {
                    "name": "polyglot-notebook"
                },
                "polyglot_notebook": {
                    "kernelName": "sql-sql2025"
                }
            },
            "outputs": [],
            "source": [
                "DECLARE @response NVARCHAR(max)\n",
                "\n",
                "EXEC Sp_invoke_external_rest_endpoint\n",
                "  @url = N'https://api.worldbank.org/v2/country/all/indicator/SP.POP.TOTL?format=json&date=2022',\n",
                "  @method = 'GET',\n",
                "  @response = @response output\n",
                "\n",
                "SELECT @response"
            ]
        },
        {
            "cell_type": "code",
            "execution_count": null,
            "metadata": {
                "polyglot_notebook": {
                    "kernelName": "sql-sql2025"
                }
            },
            "outputs": [],
            "source": [
                "DECLARE @response NVARCHAR(max)\n",
                "\n",
                "EXEC Sp_invoke_external_rest_endpoint\n",
                "  @url = N'https://api.worldbank.org/v2/country/all/indicator/SP.POP.TOTL?format=json&date=2022',\n",
                "  @method = 'GET',\n",
                "  @response = @response output\n",
                "\n",
                "SELECT TOP 5 [Value] FROM Openjson(Json_query(@response, '$.result[1]')) A "
            ]
        },
        {
            "cell_type": "code",
            "execution_count": null,
            "metadata": {
                "polyglot_notebook": {
                    "kernelName": "sql-sql2025"
                }
            },
            "outputs": [],
            "source": [
                "DECLARE @response NVARCHAR(max)\n",
                "\n",
                "EXEC Sp_invoke_external_rest_endpoint\n",
                "  @url = N'https://reqres.in/api/products/',\n",
                "  @headers = '{\"x-api-key\":\"reqres-free-v1\"}',\n",
                "  @method = 'GET',\n",
                "  @response = @response output\n",
                "\n",
                "SELECT * FROM   Openjson(Json_query(@response, '$.result.data')) A "
            ]
        },
        {
            "cell_type": "code",
            "execution_count": null,
            "metadata": {
                "polyglot_notebook": {
                    "kernelName": "sql-sql2025"
                }
            },
            "outputs": [],
            "source": [
                "CREATE DATABASE SCOPED CREDENTIAL [https://reqres.in/api/]\n",
                "WITH IDENTITY = 'HTTPEndpointHeaders', SECRET = '{\"x-api-key\":\"reqres-free-v1\"}'"
            ]
        },
        {
            "cell_type": "code",
            "execution_count": null,
            "metadata": {
                "polyglot_notebook": {
                    "kernelName": "sql-sql2025"
                }
            },
            "outputs": [],
            "source": [
                "DECLARE @response NVARCHAR(max)\n",
                "\n",
                "EXEC Sp_invoke_external_rest_endpoint\n",
                "  @url = N'https://reqres.in/api/products/',\n",
                "  @credential = [https://reqres.in/api/],\n",
                "  @method = 'GET',\n",
                "  @response = @response output\n",
                "\n",
                "SELECT * FROM   Openjson(Json_query(@response, '$.result.data')) A "
            ]
        },
        {
            "cell_type": "code",
            "execution_count": null,
            "metadata": {
                "polyglot_notebook": {
                    "kernelName": "sql-sql2025"
                }
            },
            "outputs": [],
            "source": [
                "DECLARE @response NVARCHAR(max)\n",
                "\n",
                "EXEC Sp_invoke_external_rest_endpoint\n",
                "  @url = N'https://reqres.in/api/products/',\n",
                "  @credential = [https://reqres.in/api/],\n",
                "  @method = 'GET',\n",
                "  @response = @response output\n",
                "\n",
                "SELECT Json_value(value, '$.name')          name,\n",
                "       Json_value(value, '$.color')         color,\n",
                "       Json_value(value, '$.pantone_value') pantone_value\n",
                "FROM   Openjson(Json_query(@response, '$.result.data'), 'strict $') AS export "
            ]
        },
        {
            "cell_type": "markdown",
            "metadata": {},
            "source": [
                "IDENTITY could also be HttpEndpointQueryString, MANAGED IDENTITY, a user, a SAS token or OAUTH."
            ]
        },
        {
            "cell_type": "code",
            "execution_count": null,
            "metadata": {
                "polyglot_notebook": {
                    "kernelName": "sql-sql2025"
                }
            },
            "outputs": [],
            "source": [
                "IF EXISTS (SELECT * FROM sys.database_scoped_credentials WHERE NAME = 'https://management.azure.com/')\n",
                "  BEGIN\n",
                "      DROP DATABASE scoped credential [https://management.azure.com/]\n",
                "  END\n",
                "\n",
                "GO\n",
                "\n",
                "DECLARE @response NVARCHAR(max)\n",
                "\n",
                "EXEC Sp_invoke_external_rest_endpoint\n",
                "  @url = N'https://login.microsoftonline.com/XXX/oauth2/token',\n",
                "  @headers='{\"content-type\":\"application/x-www-form-urlencoded\"}',\n",
                "  @payload=N'grant_type=client_credentials&client_id=XXX&client_secret=XXX&resource=https%3A%2F%2Fmanagement.azure.com%2F',\n",
                "  @method = 'POST',\n",
                "  @response = @response output\n",
                "\n",
                "DECLARE @secret NVARCHAR(max)\n",
                "\n",
                "SELECT @secret = value\n",
                "FROM   Openjson(Json_query(@response, '$.result')) A\n",
                "WHERE  [key] = 'access_token'\n",
                "\n",
                "SET @secret = N'{\"Authorization\":\"Bearer ' + @secret + '\"}'\n",
                "SET @secret = N'CREATE DATABASE SCOPED CREDENTIAL [https://management.azure.com/] WITH IDENTITY = ''HTTPEndpointHeaders'', SECRET = ''' + @secret + ''''\n",
                "\n",
                "EXEC Sp_executesql  @secret "
            ]
        },
        {
            "cell_type": "code",
            "execution_count": null,
            "metadata": {
                "polyglot_notebook": {
                    "kernelName": "sql-sql2025"
                }
            },
            "outputs": [],
            "source": [
                "DECLARE @response NVARCHAR(max)\n",
                "\n",
                "EXEC Sp_invoke_external_rest_endpoint @url = 'https://management.azure.com/subscriptions/92cc49b9-95ca-4935-86e1-1545d29bc50a/providers/Microsoft.Compute/disks?api-version=2025-01-02',\n",
                "@credential = [https://management.azure.com/],\n",
                "@method = 'GET',\n",
                "@response = @response output\n",
                "\n",
                "SELECT *\n",
                "FROM   (SELECT Json_value(value, '$.name')            DiskName,\n",
                "               Json_value(value, '$.properties.tier') DiskTier\n",
                "        FROM   Openjson(Json_query(@response, '$.result.value'))) A"
            ]
        },
        {
            "cell_type": "code",
            "execution_count": null,
            "metadata": {
                "language_info": {
                    "name": "polyglot-notebook"
                },
                "polyglot_notebook": {
                    "kernelName": "sql-sql2025"
                }
            },
            "outputs": [],
            "source": [
                "DECLARE @response NVARCHAR(max)\n",
                "DECLARE @Result int\n",
                "\n",
                "EXEC @Result = Sp_invoke_external_rest_endpoint\n",
                "  @url = N'https://reqres.in/api/products/',\n",
                "  @credential = [https://reqres.in/api/],\n",
                "  @method = 'GET',\n",
                "  @response = @response output\n",
                "\n",
                "SELECT @Result,@Response"
            ]
        },
        {
            "cell_type": "code",
            "execution_count": null,
            "metadata": {
                "language_info": {
                    "name": "polyglot-notebook"
                },
                "polyglot_notebook": {
                    "kernelName": "sql-sql2025"
                }
            },
            "outputs": [],
            "source": [
                "DECLARE @response NVARCHAR(max)\n",
                "DECLARE @Result int\n",
                "\n",
                "EXEC @Result = Sp_invoke_external_rest_endpoint\n",
                "  @url = N'https://api.exchangeratesapi.io/v1/latest',\n",
                "  @method = 'GET',\n",
                "  @response = @response output\n",
                "\n",
                "SELECT @Result,@Response"
            ]
        },
        {
            "cell_type": "code",
            "execution_count": null,
            "metadata": {
                "language_info": {
                    "name": "polyglot-notebook"
                },
                "polyglot_notebook": {
                    "kernelName": "sql-sql2025"
                }
            },
            "outputs": [],
            "source": [
                "DECLARE @response NVARCHAR(max)\n",
                "\n",
                "\n",
                "EXEC Sp_invoke_external_rest_endpoint\n",
                "  @url = N'https://openlibrary.org/search.json?q=sql+server+2022',\n",
                "  @timeout = 230,\n",
                "  @method = 'GET',\n",
                "  @response = @response output\n",
                "\n",
                "SELECT * FROM   Openjson(Json_query(@response, '$.result')) A"
            ]
        },
        {
            "cell_type": "code",
            "execution_count": null,
            "metadata": {
                "language_info": {
                    "name": "polyglot-notebook"
                },
                "polyglot_notebook": {
                    "kernelName": "sql-sql2025"
                }
            },
            "outputs": [],
            "source": [
                "DECLARE @response NVARCHAR(max)\n",
                "\n",
                "\n",
                "EXEC Sp_invoke_external_rest_endpoint\n",
                "  @url = N'https://openlibrary.org/search.json?q=sql+server+2022',\n",
                "  @timeout = 230,\n",
                "  @method = 'GET',\n",
                "  @response = @response output\n",
                "\n",
                "SELECT top 5 json_value(value, '$.key') OL_key,json_value(value, '$.author_name[0]') MainAuthor,Json_value(value, '$.title') Title FROM   Openjson(Json_query(@response, '$.result.docs')) A\n"
            ]
        },
        {
            "cell_type": "code",
            "execution_count": null,
            "metadata": {
                "language_info": {
                    "name": "polyglot-notebook"
                },
                "polyglot_notebook": {
                    "kernelName": "sql-sql2025"
                }
            },
            "outputs": [],
            "source": [
                "IF  EXISTS (SELECT * FROM sys.objects WHERE object_id = OBJECT_ID(N'[dbo].[SQLBooks]') AND type in (N'U'))\n",
                "DROP TABLE [dbo].[SQLBooks]\n",
                "GO\n",
                "CREATE TABLE [dbo].[SQLBooks](\n",
                "\t[ID] [int] IDENTITY(1,1) NOT NULL,\n",
                "\t[OL_key] [nvarchar](100) NULL,\n",
                "\t[MainAuthor] [nvarchar](250) NULL,\n",
                "\t[Title] [nvarchar](1000) NULL\n",
                ") ON [PRIMARY] "
            ]
        },
        {
            "cell_type": "code",
            "execution_count": null,
            "metadata": {
                "language_info": {
                    "name": "polyglot-notebook"
                },
                "polyglot_notebook": {
                    "kernelName": "sql-sql2025"
                }
            },
            "outputs": [],
            "source": [
                "DECLARE @response NVARCHAR(max)\n",
                "\n",
                "EXEC Sp_invoke_external_rest_endpoint\n",
                "  @url = N'https://openlibrary.org/search.json?q=sql+server+2022',\n",
                "  @timeout = 230,\n",
                "  @method = 'GET',\n",
                "  @response = @response output\n",
                "\n",
                "TRUNCATE TABLE SQLBooks\n",
                "INSERT INTO SQLBooks (OL_Key,MainAuthor,Title)\n",
                "SELECT json_value(value, '$.key') OL_key,json_value(value, '$.author_name[0]') MainAuthor,Json_value(value, '$.title') Title \n",
                "FROM   Openjson(Json_query(@response, '$.result.docs')) A\n"
            ]
        },
        {
            "cell_type": "code",
            "execution_count": null,
            "metadata": {
                "language_info": {
                    "name": "polyglot-notebook"
                },
                "polyglot_notebook": {
                    "kernelName": "sql-sql2025"
                }
            },
            "outputs": [],
            "source": [
                "SELECT * FROM SQLBooks"
            ]
        },
        {
            "cell_type": "code",
            "execution_count": null,
            "metadata": {
                "language_info": {
                    "name": "polyglot-notebook"
                },
                "polyglot_notebook": {
                    "kernelName": "sql-sql2025"
                }
            },
            "outputs": [],
            "source": [
                "DECLARE @response NVARCHAR(max)\n",
                "\n",
                "EXEC Sp_invoke_external_rest_endpoint\n",
                "  @url = N'https://openlibrary.org/search.json?q=sql+server',\n",
                "  @timeout = 230,\n",
                "  @method = 'GET',\n",
                "  @response = @response output\n",
                "\n",
                "SELECT * FROM   Openjson(Json_query(@response, '$.result')) A where [key] = 'numFound'\n",
                "\n",
                "TRUNCATE TABLE SQLBooks\n",
                "INSERT INTO SQLBooks (OL_Key,MainAuthor,Title)\n",
                "SELECT json_value(value, '$.key') OL_key,json_value(value, '$.author_name[0]') MainAuthor,Json_value(value, '$.title') Title \n",
                "FROM   Openjson(Json_query(@response, '$.result.docs')) A"
            ]
        },
        {
            "cell_type": "code",
            "execution_count": null,
            "metadata": {
                "language_info": {
                    "name": "polyglot-notebook"
                },
                "polyglot_notebook": {
                    "kernelName": "sql-sql2025"
                }
            },
            "outputs": [],
            "source": [
                "TRUNCATE TABLE SQLBooks\n",
                "SET NOCOUNT ON\n",
                "\n",
                "DECLARE @response NVARCHAR(MAX),\n",
                "        @url NVARCHAR(MAX),\n",
                "        @start INT = 0,\n",
                "        @hasMore BIT = 1\n",
                "\n",
                "WHILE @hasMore = 1\n",
                "BEGIN\n",
                "    SET @url = 'https://openlibrary.org/search.json?q=sql+server&limit=100&offset=' + CAST(@start AS NVARCHAR)\n",
                "\n",
                "    EXEC Sp_invoke_external_rest_endpoint\n",
                "        @url = @url,\n",
                "        @method = 'GET',\n",
                "        @response = @response OUTPUT\n",
                "\n",
                "    IF @response IS NULL OR LEN(@response) < 50\n",
                "    BEGIN\n",
                "        SET @hasMore = 0\n",
                "        BREAK\n",
                "    END\n",
                "\n",
                "    INSERT INTO SQLBooks (OL_Key, MainAuthor,  Title)\n",
                "    SELECT\n",
                "        JSON_VALUE(value, '$.key') OL_Key,\n",
                "        ISNULL(JSON_VALUE(value, '$.author_name[0]'),'') MainAuthor,\n",
                "        JSON_VALUE(value, '$.title') Title\n",
                "    FROM OPENJSON(JSON_QUERY(@response, '$.result.docs'))\n",
                "\n",
                "    IF (SELECT COUNT(*) FROM OPENJSON(JSON_QUERY(@response, '$.result.docs'))) < 100\n",
                "        SET @hasMore = 0\n",
                "    ELSE\n",
                "        SET @start += 100\n",
                "\n",
                "END\n",
                "SELECT COUNT(*) FROM SQLBooks"
            ]
        },
        {
            "cell_type": "code",
            "execution_count": null,
            "metadata": {
                "language_info": {
                    "name": "polyglot-notebook"
                },
                "polyglot_notebook": {
                    "kernelName": "sql-sql2025"
                }
            },
            "outputs": [],
            "source": [
                "DECLARE @response NVARCHAR(max)\n",
                "DECLARE @prompt NVARCHAR(max) = N'what is the airspeed velocity of an unladen swallow?'\n",
                "DECLARE @model NVARCHAR(250) = N'mistral'\n",
                "DECLARE @payload NVARCHAR(max) = N'{\"model\":\"' + @model + '\",\"prompt\":\"' + @prompt + '\",\"stream\": false }'\n",
                "\n",
                "EXEC Sp_invoke_external_rest_endpoint\n",
                "  @url = N'https://ai-gpu.lab.bwdemo.io:443/api/generate',\n",
                "  @payload = @payload,\n",
                "  @timeout = 230,\n",
                "  @response = @response output\n",
                "\n",
                "SELECT value\n",
                "FROM   Openjson(Json_query(@response, '$.result')) A\n",
                "WHERE  [key] = 'response' "
            ]
        },
        {
            "cell_type": "code",
            "execution_count": null,
            "metadata": {
                "language_info": {
                    "name": "polyglot-notebook"
                },
                "polyglot_notebook": {
                    "kernelName": "sql-sql2025"
                }
            },
            "outputs": [],
            "source": [
                "SELECT TOP 1 MainAuthor,Title FROM SQLBooks WHERE Title like '%2022%' order by MainAuthor"
            ]
        },
        {
            "cell_type": "code",
            "execution_count": null,
            "metadata": {
                "language_info": {
                    "name": "polyglot-notebook"
                },
                "polyglot_notebook": {
                    "kernelName": "sql-sql2025"
                }
            },
            "outputs": [],
            "source": [
                "SELECT TOP 1 'What can you tell me about the book ''' + Title + ''' by ''' + MainAuthor + '''?' FROM SQLBooks WHERE Title like '%2022%' order by MainAuthor "
            ]
        },
        {
            "cell_type": "code",
            "execution_count": null,
            "metadata": {
                "language_info": {
                    "name": "polyglot-notebook"
                },
                "polyglot_notebook": {
                    "kernelName": "sql-sql2025"
                }
            },
            "outputs": [],
            "source": [
                "DECLARE @response NVARCHAR(max)\n",
                "DECLARE @prompt NVARCHAR(max) \n",
                "SELECT TOP 1 @prompt='What can you tell me about the book ''' + Title + ''' by ''' + MainAuthor + '''?' FROM SQLBooks WHERE Title like '%2022%' order by MainAuthor \n",
                "DECLARE @model NVARCHAR(250) = N'mistral'\n",
                "DECLARE @payload NVARCHAR(max) = N'{\"model\":\"' + @model + '\",\"prompt\":\"' + @prompt + '\",\"stream\": false }'\n",
                "\n",
                "EXEC Sp_invoke_external_rest_endpoint\n",
                "  @url = N'https://ai-gpu.lab.bwdemo.io:443/api/generate',\n",
                "  @payload = @payload,\n",
                "  @timeout = 230,\n",
                "  @response = @response output\n",
                "\n",
                "SELECT value\n",
                "FROM   Openjson(Json_query(@response, '$.result')) A\n",
                "WHERE  [key] = 'response' "
            ]
        }
    ],
    "metadata": {
        "kernelspec": {
            "display_name": ".NET (C#)",
            "language": "C#",
            "name": ".net-csharp"
        },
        "language_info": {
            "name": "polyglot-notebook",
            "version": ""
        },
        "polyglot_notebook": {
            "kernelInfo": {
                "defaultKernelName": "csharp",
                "items": [
                    {
                        "aliases": [],
                        "name": "csharp"
                    },
                    {
                        "aliases": [],
                        "languageName": "T-SQL",
                        "name": "sql-sql2025"
                    }
                ]
            }
        }
    },
    "nbformat": 4,
    "nbformat_minor": 2
}
