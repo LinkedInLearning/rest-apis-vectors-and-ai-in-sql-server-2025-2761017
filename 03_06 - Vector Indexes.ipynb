{
    "cells": [
        {
            "cell_type": "code",
            "execution_count": null,
            "metadata": {
                "polyglot_notebook": {
                    "kernelName": "csharp"
                }
            },
            "outputs": [],
            "source": [
                "#r \"nuget: Microsoft.DotNet.Interactive.SqlServer, *-*\""
            ]
        },
        {
            "cell_type": "code",
            "execution_count": null,
            "metadata": {
                "polyglot_notebook": {
                    "kernelName": "csharp"
                }
            },
            "outputs": [],
            "source": [
                "#!connect mssql --kernel-name sql2025 --connection-string \"Server=SQL2025;TrustServerCertificate=True;Integrated Security=True\""
            ]
        },
        {
            "cell_type": "code",
            "execution_count": 4,
            "metadata": {
                "polyglot_notebook": {
                    "kernelName": "sql-sql2025"
                }
            },
            "outputs": [
                {
                    "data": {
                        "text/plain": [
                            "(1 row affected)"
                        ]
                    },
                    "metadata": {},
                    "output_type": "display_data"
                },
                {
                    "data": {
                        "text/csv": [
                            "(No column name)\r\n",
                            "\"Microsoft SQL Server 2025 (RC0) - 17.0.900.3 (X64) \n",
                            "\tAug  8 2025 18:30:17 \n",
                            "\tCopyright (C) 2025 Microsoft Corporation\n",
                            "\tEnterprise Evaluation Edition (64-bit) on Windows Server 2022 Standard 10.0 <X64> (Build 20348: ) (Hypervisor)\n",
                            "\"\r\n"
                        ],
                        "text/html": [
                            "<table><thead><tr><td><span>(No column name)</span></td></tr></thead><tbody><tr><td>Microsoft SQL Server 2025 (RC0) - 17.0.900.3 (X64) \n",
                            "\tAug  8 2025 18:30:17 \n",
                            "\tCopyright (C) 2025 Microsoft Corporation\n",
                            "\tEnterprise Evaluation Edition (64-bit) on Windows Server 2022 Standard 10.0 &lt;X64&gt; (Build 20348: ) (Hypervisor)\n",
                            "</td></tr></tbody></table><style>\r\n",
                            ".dni-code-hint {\r\n",
                            "    font-style: italic;\r\n",
                            "    overflow: hidden;\r\n",
                            "    white-space: nowrap;\r\n",
                            "}\r\n",
                            ".dni-treeview {\r\n",
                            "    white-space: nowrap;\r\n",
                            "}\r\n",
                            ".dni-treeview td {\r\n",
                            "    vertical-align: top;\r\n",
                            "    text-align: start;\r\n",
                            "}\r\n",
                            "details.dni-treeview {\r\n",
                            "    padding-left: 1em;\r\n",
                            "}\r\n",
                            "table td {\r\n",
                            "    text-align: start;\r\n",
                            "}\r\n",
                            "table tr { \r\n",
                            "    vertical-align: top; \r\n",
                            "    margin: 0em 0px;\r\n",
                            "}\r\n",
                            "table tr td pre \r\n",
                            "{ \r\n",
                            "    vertical-align: top !important; \r\n",
                            "    margin: 0em 0px !important;\r\n",
                            "} \r\n",
                            "table th {\r\n",
                            "    text-align: start;\r\n",
                            "}\r\n",
                            "</style>"
                        ]
                    },
                    "metadata": {},
                    "output_type": "display_data"
                }
            ],
            "source": [
                "SELECT @@VERSION"
            ]
        },
        {
            "cell_type": "code",
            "execution_count": 5,
            "metadata": {
                "polyglot_notebook": {
                    "kernelName": "sql-sql2025"
                }
            },
            "outputs": [
                {
                    "data": {
                        "text/plain": [
                            "Commands completed successfully."
                        ]
                    },
                    "metadata": {},
                    "output_type": "display_data"
                }
            ],
            "source": [
                "USE LinkedInCourseDB"
            ]
        },
        {
            "cell_type": "code",
            "execution_count": 6,
            "metadata": {
                "polyglot_notebook": {
                    "kernelName": "sql-sql2025"
                }
            },
            "outputs": [
                {
                    "data": {
                        "text/plain": [
                            "Commands completed successfully."
                        ]
                    },
                    "metadata": {},
                    "output_type": "display_data"
                }
            ],
            "source": [
                "ALTER TABLE SQLBooks\n",
                "ADD CONSTRAINT PK_a_Id PRIMARY KEY (Id)"
            ]
        },
        {
            "cell_type": "code",
            "execution_count": 7,
            "metadata": {
                "polyglot_notebook": {
                    "kernelName": "sql-sql2025"
                }
            },
            "outputs": [
                {
                    "data": {
                        "text/plain": [
                            "Commands completed successfully."
                        ]
                    },
                    "metadata": {},
                    "output_type": "display_data"
                }
            ],
            "source": [
                "CREATE VECTOR INDEX vec_idx ON SQLBooks([embeddings])\n",
                "WITH (\n",
                "    metric = 'cosine',\n",
                "    type = 'diskann',\n",
                "    maxdop = 8\n",
                ")"
            ]
        },
        {
            "cell_type": "code",
            "execution_count": 8,
            "metadata": {
                "polyglot_notebook": {
                    "kernelName": "sql-sql2025"
                }
            },
            "outputs": [
                {
                    "ename": "Error",
                    "evalue": "Msg 42231, Level 16, State 1, Line 1\r\nData modification statement failed because table 'SQLBooks' has a vector index on it.",
                    "output_type": "error",
                    "traceback": [
                        "Msg 42231, Level 16, State 1, Line 1\r\n",
                        "Data modification statement failed because table 'SQLBooks' has a vector index on it."
                    ]
                }
            ],
            "source": [
                "UPDATE SQLBooks set title = title + '!'"
            ]
        },
        {
            "cell_type": "code",
            "execution_count": 9,
            "metadata": {
                "polyglot_notebook": {
                    "kernelName": "sql-sql2025"
                }
            },
            "outputs": [
                {
                    "data": {
                        "text/plain": [
                            "(0 rows affected)"
                        ]
                    },
                    "metadata": {},
                    "output_type": "display_data"
                },
                {
                    "data": {
                        "text/plain": [
                            "Info: No rows were returned for query 0 in batch 0."
                        ]
                    },
                    "metadata": {},
                    "output_type": "display_data"
                }
            ],
            "source": [
                "SELECT Title FROM SQLBooks where title like '%datawarehouse%'"
            ]
        },
        {
            "cell_type": "code",
            "execution_count": 10,
            "metadata": {
                "polyglot_notebook": {
                    "kernelName": "sql-sql2025"
                }
            },
            "outputs": [
                {
                    "data": {
                        "text/plain": [
                            "(3 rows affected)"
                        ]
                    },
                    "metadata": {},
                    "output_type": "display_data"
                },
                {
                    "data": {
                        "text/csv": [
                            "MainAuthor,title,distance\r\n",
                            "\"Vincent Rainardi\",\"Building a Data Warehouse\",0,29426318407058716\r\n",
                            "\"Michael J. Corey\",\"SQL server 7 data warehousing\",0,3347949981689453\r\n",
                            "\"Joy Mundy\",\"The Microsoft data warehouse toolkit\",0,35621267557144165\r\n"
                        ],
                        "text/html": [
                            "<table><thead><tr><td><span>MainAuthor</span></td><td><span>title</span></td><td><span>distance</span></td></tr></thead><tbody><tr><td>Vincent Rainardi</td><td>Building a Data Warehouse</td><td>0,29426318407058716</td></tr><tr><td>Michael J. Corey</td><td>SQL server 7 data warehousing</td><td>0,3347949981689453</td></tr><tr><td>Joy Mundy</td><td>The Microsoft data warehouse toolkit</td><td>0,35621267557144165</td></tr></tbody></table><style>\r\n",
                            ".dni-code-hint {\r\n",
                            "    font-style: italic;\r\n",
                            "    overflow: hidden;\r\n",
                            "    white-space: nowrap;\r\n",
                            "}\r\n",
                            ".dni-treeview {\r\n",
                            "    white-space: nowrap;\r\n",
                            "}\r\n",
                            ".dni-treeview td {\r\n",
                            "    vertical-align: top;\r\n",
                            "    text-align: start;\r\n",
                            "}\r\n",
                            "details.dni-treeview {\r\n",
                            "    padding-left: 1em;\r\n",
                            "}\r\n",
                            "table td {\r\n",
                            "    text-align: start;\r\n",
                            "}\r\n",
                            "table tr { \r\n",
                            "    vertical-align: top; \r\n",
                            "    margin: 0em 0px;\r\n",
                            "}\r\n",
                            "table tr td pre \r\n",
                            "{ \r\n",
                            "    vertical-align: top !important; \r\n",
                            "    margin: 0em 0px !important;\r\n",
                            "} \r\n",
                            "table th {\r\n",
                            "    text-align: start;\r\n",
                            "}\r\n",
                            "</style>"
                        ]
                    },
                    "metadata": {},
                    "output_type": "display_data"
                }
            ],
            "source": [
                "DECLARE @search_text NVARCHAR(MAX) = 'datawarehouse'\n",
                "DECLARE @search_vector VECTOR(768) = AI_GENERATE_EMBEDDINGS(@search_text USE MODEL ollama)\n",
                "\n",
                "SELECT \n",
                "    MainAuthor,title,\n",
                "    s.distance\n",
                "FROM vector_search(\n",
                "    table = SQLBooks AS t,\n",
                "    column = [embeddings],\n",
                "    similar_to = @search_vector,\n",
                "    metric = 'cosine',\n",
                "    top_n = 3\n",
                ") AS s\n",
                "ORDER BY s.distance"
            ]
        },
        {
            "cell_type": "code",
            "execution_count": 11,
            "metadata": {
                "language_info": {
                    "name": "polyglot-notebook"
                },
                "polyglot_notebook": {
                    "kernelName": "sql-sql2025"
                }
            },
            "outputs": [
                {
                    "data": {
                        "text/plain": [
                            "Commands completed successfully."
                        ]
                    },
                    "metadata": {},
                    "output_type": "display_data"
                }
            ],
            "source": [
                "SET STATISTICS IO ON"
            ]
        },
        {
            "cell_type": "code",
            "execution_count": 12,
            "metadata": {
                "language_info": {
                    "name": "polyglot-notebook"
                },
                "polyglot_notebook": {
                    "kernelName": "sql-sql2025"
                }
            },
            "outputs": [
                {
                    "data": {
                        "text/plain": [
                            "(3 rows affected)"
                        ]
                    },
                    "metadata": {},
                    "output_type": "display_data"
                },
                {
                    "data": {
                        "text/plain": [
                            "Table 'SQLBooks'. Scan count 0, logical reads 723, physical reads 0, page server reads 0, read-ahead reads 0, page server read-ahead reads 0, lob logical reads 0, lob physical reads 0, lob page server reads 0, lob read-ahead reads 0, lob page server read-ahead reads 0."
                        ]
                    },
                    "metadata": {},
                    "output_type": "display_data"
                },
                {
                    "data": {
                        "text/plain": [
                            "Table 'Worktable'. Scan count 11, logical reads 187, physical reads 0, page server reads 0, read-ahead reads 0, page server read-ahead reads 0, lob logical reads 0, lob physical reads 0, lob page server reads 0, lob read-ahead reads 0, lob page server read-ahead reads 0."
                        ]
                    },
                    "metadata": {},
                    "output_type": "display_data"
                },
                {
                    "data": {
                        "text/plain": [
                            "Table 'vector_index_Graph_Edge_table_1221579390_1152000'. Scan count 0, logical reads 24, physical reads 0, page server reads 0, read-ahead reads 0, page server read-ahead reads 0, lob logical reads 0, lob physical reads 0, lob page server reads 0, lob read-ahead reads 0, lob page server read-ahead reads 0."
                        ]
                    },
                    "metadata": {},
                    "output_type": "display_data"
                },
                {
                    "data": {
                        "text/csv": [
                            "MainAuthor,title,distance\r\n",
                            "\"Vincent Rainardi\",\"Building a Data Warehouse\",0,29426318407058716\r\n",
                            "\"Michael J. Corey\",\"SQL server 7 data warehousing\",0,3347949981689453\r\n",
                            "\"Joy Mundy\",\"The Microsoft data warehouse toolkit\",0,35621267557144165\r\n"
                        ],
                        "text/html": [
                            "<table><thead><tr><td><span>MainAuthor</span></td><td><span>title</span></td><td><span>distance</span></td></tr></thead><tbody><tr><td>Vincent Rainardi</td><td>Building a Data Warehouse</td><td>0,29426318407058716</td></tr><tr><td>Michael J. Corey</td><td>SQL server 7 data warehousing</td><td>0,3347949981689453</td></tr><tr><td>Joy Mundy</td><td>The Microsoft data warehouse toolkit</td><td>0,35621267557144165</td></tr></tbody></table><style>\r\n",
                            ".dni-code-hint {\r\n",
                            "    font-style: italic;\r\n",
                            "    overflow: hidden;\r\n",
                            "    white-space: nowrap;\r\n",
                            "}\r\n",
                            ".dni-treeview {\r\n",
                            "    white-space: nowrap;\r\n",
                            "}\r\n",
                            ".dni-treeview td {\r\n",
                            "    vertical-align: top;\r\n",
                            "    text-align: start;\r\n",
                            "}\r\n",
                            "details.dni-treeview {\r\n",
                            "    padding-left: 1em;\r\n",
                            "}\r\n",
                            "table td {\r\n",
                            "    text-align: start;\r\n",
                            "}\r\n",
                            "table tr { \r\n",
                            "    vertical-align: top; \r\n",
                            "    margin: 0em 0px;\r\n",
                            "}\r\n",
                            "table tr td pre \r\n",
                            "{ \r\n",
                            "    vertical-align: top !important; \r\n",
                            "    margin: 0em 0px !important;\r\n",
                            "} \r\n",
                            "table th {\r\n",
                            "    text-align: start;\r\n",
                            "}\r\n",
                            "</style>"
                        ]
                    },
                    "metadata": {},
                    "output_type": "display_data"
                }
            ],
            "source": [
                "DECLARE @search_text NVARCHAR(MAX) = 'datawarehouse'\n",
                "DECLARE @search_vector VECTOR(768) = AI_GENERATE_EMBEDDINGS(@search_text USE MODEL ollama)\n",
                "\n",
                "SELECT \n",
                "    MainAuthor,title,\n",
                "    s.distance\n",
                "FROM vector_search(\n",
                "    table = SQLBooks AS t,\n",
                "    column = [embeddings],\n",
                "    similar_to = @search_vector,\n",
                "    metric = 'cosine',\n",
                "    top_n = 3\n",
                ") AS s\n",
                "ORDER BY s.distance"
            ]
        },
        {
            "cell_type": "code",
            "execution_count": 13,
            "metadata": {
                "language_info": {
                    "name": "polyglot-notebook"
                },
                "polyglot_notebook": {
                    "kernelName": "sql-sql2025"
                }
            },
            "outputs": [
                {
                    "data": {
                        "text/plain": [
                            "(3 rows affected)"
                        ]
                    },
                    "metadata": {},
                    "output_type": "display_data"
                },
                {
                    "data": {
                        "text/plain": [
                            "Table 'SQLBooks'. Scan count 1, logical reads 1718, physical reads 0, page server reads 0, read-ahead reads 0, page server read-ahead reads 0, lob logical reads 0, lob physical reads 0, lob page server reads 0, lob read-ahead reads 0, lob page server read-ahead reads 0."
                        ]
                    },
                    "metadata": {},
                    "output_type": "display_data"
                },
                {
                    "data": {
                        "text/csv": [
                            "MainAuthor,title,distance\r\n",
                            "\"Vincent Rainardi\",\"Building a Data Warehouse\",0,29426318407058716\r\n",
                            "\"Michael J. Corey\",\"SQL server 7 data warehousing\",0,3347949981689453\r\n",
                            "\"Joy Mundy\",\"The Microsoft data warehouse toolkit\",0,35621267557144165\r\n"
                        ],
                        "text/html": [
                            "<table><thead><tr><td><span>MainAuthor</span></td><td><span>title</span></td><td><span>distance</span></td></tr></thead><tbody><tr><td>Vincent Rainardi</td><td>Building a Data Warehouse</td><td>0,29426318407058716</td></tr><tr><td>Michael J. Corey</td><td>SQL server 7 data warehousing</td><td>0,3347949981689453</td></tr><tr><td>Joy Mundy</td><td>The Microsoft data warehouse toolkit</td><td>0,35621267557144165</td></tr></tbody></table><style>\r\n",
                            ".dni-code-hint {\r\n",
                            "    font-style: italic;\r\n",
                            "    overflow: hidden;\r\n",
                            "    white-space: nowrap;\r\n",
                            "}\r\n",
                            ".dni-treeview {\r\n",
                            "    white-space: nowrap;\r\n",
                            "}\r\n",
                            ".dni-treeview td {\r\n",
                            "    vertical-align: top;\r\n",
                            "    text-align: start;\r\n",
                            "}\r\n",
                            "details.dni-treeview {\r\n",
                            "    padding-left: 1em;\r\n",
                            "}\r\n",
                            "table td {\r\n",
                            "    text-align: start;\r\n",
                            "}\r\n",
                            "table tr { \r\n",
                            "    vertical-align: top; \r\n",
                            "    margin: 0em 0px;\r\n",
                            "}\r\n",
                            "table tr td pre \r\n",
                            "{ \r\n",
                            "    vertical-align: top !important; \r\n",
                            "    margin: 0em 0px !important;\r\n",
                            "} \r\n",
                            "table th {\r\n",
                            "    text-align: start;\r\n",
                            "}\r\n",
                            "</style>"
                        ]
                    },
                    "metadata": {},
                    "output_type": "display_data"
                }
            ],
            "source": [
                "DECLARE @search_text NVARCHAR(MAX) = 'datawarehouse'\n",
                "DECLARE @search_vector VECTOR(768) = AI_GENERATE_EMBEDDINGS(@search_text USE MODEL ollama)\n",
                " \n",
                "SELECT Top 3 MainAuthor,title,\n",
                "    vector_distance('cosine', @search_vector, embeddings) AS distance\n",
                "FROM SQLBooks  \n",
                "WHERE MainAuthor <> ''\n",
                "ORDER BY distance"
            ]
        },
        {
            "cell_type": "code",
            "execution_count": 14,
            "metadata": {
                "polyglot_notebook": {
                    "kernelName": "sql-sql2025"
                }
            },
            "outputs": [
                {
                    "data": {
                        "text/plain": [
                            "Kernel added: #!sql-sql2025-stackoverflow"
                        ]
                    },
                    "metadata": {},
                    "output_type": "display_data"
                }
            ],
            "source": [
                "#!connect mssql --kernel-name sql2025-stackoverflow --connection-string \"Server=sqlstackoverflow\\ctp21;TrustServerCertificate=True;Integrated Security=True\""
            ]
        },
        {
            "cell_type": "code",
            "execution_count": 15,
            "metadata": {
                "polyglot_notebook": {
                    "kernelName": "sql-sql2025-stackoverflow"
                }
            },
            "outputs": [
                {
                    "data": {
                        "text/plain": [
                            "Commands completed successfully."
                        ]
                    },
                    "metadata": {},
                    "output_type": "display_data"
                }
            ],
            "source": [
                "use StackOverflowExcerpt"
            ]
        },
        {
            "cell_type": "code",
            "execution_count": 16,
            "metadata": {
                "language_info": {
                    "name": "polyglot-notebook"
                },
                "polyglot_notebook": {
                    "kernelName": "sql-sql2025-stackoverflow"
                }
            },
            "outputs": [
                {
                    "data": {
                        "text/plain": [
                            "(1 row affected)"
                        ]
                    },
                    "metadata": {},
                    "output_type": "display_data"
                },
                {
                    "data": {
                        "text/csv": [
                            "approx_rows\r\n",
                            "10000000\r\n"
                        ],
                        "text/html": [
                            "<table><thead><tr><td><span>approx_rows</span></td></tr></thead><tbody><tr><td><div class=\"dni-plaintext\"><pre>10000000</pre></div></td></tr></tbody></table><style>\r\n",
                            ".dni-code-hint {\r\n",
                            "    font-style: italic;\r\n",
                            "    overflow: hidden;\r\n",
                            "    white-space: nowrap;\r\n",
                            "}\r\n",
                            ".dni-treeview {\r\n",
                            "    white-space: nowrap;\r\n",
                            "}\r\n",
                            ".dni-treeview td {\r\n",
                            "    vertical-align: top;\r\n",
                            "    text-align: start;\r\n",
                            "}\r\n",
                            "details.dni-treeview {\r\n",
                            "    padding-left: 1em;\r\n",
                            "}\r\n",
                            "table td {\r\n",
                            "    text-align: start;\r\n",
                            "}\r\n",
                            "table tr { \r\n",
                            "    vertical-align: top; \r\n",
                            "    margin: 0em 0px;\r\n",
                            "}\r\n",
                            "table tr td pre \r\n",
                            "{ \r\n",
                            "    vertical-align: top !important; \r\n",
                            "    margin: 0em 0px !important;\r\n",
                            "} \r\n",
                            "table th {\r\n",
                            "    text-align: start;\r\n",
                            "}\r\n",
                            "</style>"
                        ]
                    },
                    "metadata": {},
                    "output_type": "display_data"
                }
            ],
            "source": [
                "SELECT SUM(row_count) AS approx_rows FROM sys.dm_db_partition_stats WHERE object_id = OBJECT_ID('dbo.Posts_Excerpt_large')\t\t\n",
                " "
            ]
        },
        {
            "cell_type": "code",
            "execution_count": 17,
            "metadata": {
                "polyglot_notebook": {
                    "kernelName": "sql-sql2025-stackoverflow"
                }
            },
            "outputs": [
                {
                    "data": {
                        "text/plain": [
                            "Commands completed successfully."
                        ]
                    },
                    "metadata": {},
                    "output_type": "display_data"
                }
            ],
            "source": [
                "SET STATISTICS IO ON"
            ]
        },
        {
            "cell_type": "code",
            "execution_count": 18,
            "metadata": {
                "polyglot_notebook": {
                    "kernelName": "sql-sql2025-stackoverflow"
                }
            },
            "outputs": [
                {
                    "data": {
                        "text/plain": [
                            "(2 rows affected)"
                        ]
                    },
                    "metadata": {},
                    "output_type": "display_data"
                },
                {
                    "data": {
                        "text/plain": [
                            "Table 'Posts_Excerpt_Large'. Scan count 15, logical reads 8569367, physical reads 2420, page server reads 0, read-ahead reads 8546682, page server read-ahead reads 0, lob logical reads 3411, lob physical reads 87, lob page server reads 0, lob read-ahead reads 0, lob page server read-ahead reads 0."
                        ]
                    },
                    "metadata": {},
                    "output_type": "display_data"
                },
                {
                    "data": {
                        "text/csv": [
                            "id,title,distance\r\n",
                            "1778032,\"How to design and develop a web page in asp.net using vb.net?\",0,25530630350112915\r\n",
                            "3059786,\"how to learn web service using vb.net\",0,2572418451309204\r\n"
                        ],
                        "text/html": [
                            "<table><thead><tr><td><span>id</span></td><td><span>title</span></td><td><span>distance</span></td></tr></thead><tbody><tr><td><div class=\"dni-plaintext\"><pre>1778032</pre></div></td><td>How to design and develop a web page in asp.net using vb.net?</td><td>0,25530630350112915</td></tr><tr><td><div class=\"dni-plaintext\"><pre>3059786</pre></div></td><td>how to learn web service using vb.net</td><td>0,2572418451309204</td></tr></tbody></table><style>\r\n",
                            ".dni-code-hint {\r\n",
                            "    font-style: italic;\r\n",
                            "    overflow: hidden;\r\n",
                            "    white-space: nowrap;\r\n",
                            "}\r\n",
                            ".dni-treeview {\r\n",
                            "    white-space: nowrap;\r\n",
                            "}\r\n",
                            ".dni-treeview td {\r\n",
                            "    vertical-align: top;\r\n",
                            "    text-align: start;\r\n",
                            "}\r\n",
                            "details.dni-treeview {\r\n",
                            "    padding-left: 1em;\r\n",
                            "}\r\n",
                            "table td {\r\n",
                            "    text-align: start;\r\n",
                            "}\r\n",
                            "table tr { \r\n",
                            "    vertical-align: top; \r\n",
                            "    margin: 0em 0px;\r\n",
                            "}\r\n",
                            "table tr td pre \r\n",
                            "{ \r\n",
                            "    vertical-align: top !important; \r\n",
                            "    margin: 0em 0px !important;\r\n",
                            "} \r\n",
                            "table th {\r\n",
                            "    text-align: start;\r\n",
                            "}\r\n",
                            "</style>"
                        ]
                    },
                    "metadata": {},
                    "output_type": "display_data"
                }
            ],
            "source": [
                "DECLARE @search_text NVARCHAR(MAX) = 'i want to build a website using visual basic and active server pages'\n",
                "DECLARE @search_vector VECTOR(768) = AI_GENERATE_EMBEDDINGS(@search_text USE MODEL ollama)\n",
                " \n",
                "SELECT top 2\n",
                "    id,title,\n",
                "    vector_distance('cosine', @search_vector, p.embeddings) AS distance\n",
                "FROM Posts_Excerpt_large p\n",
                " \n",
                "ORDER BY distance"
            ]
        },
        {
            "cell_type": "code",
            "execution_count": 19,
            "metadata": {
                "polyglot_notebook": {
                    "kernelName": "sql-sql2025-stackoverflow"
                }
            },
            "outputs": [
                {
                    "data": {
                        "text/plain": [
                            "(2 rows affected)"
                        ]
                    },
                    "metadata": {},
                    "output_type": "display_data"
                },
                {
                    "data": {
                        "text/plain": [
                            "Table 'Posts_Excerpt_Large'. Scan count 0, logical reads 5864, physical reads 1250, page server reads 0, read-ahead reads 0, page server read-ahead reads 0, lob logical reads 1, lob physical reads 1, lob page server reads 0, lob read-ahead reads 0, lob page server read-ahead reads 0."
                        ]
                    },
                    "metadata": {},
                    "output_type": "display_data"
                },
                {
                    "data": {
                        "text/plain": [
                            "Table 'Worktable'. Scan count 23, logical reads 443, physical reads 0, page server reads 0, read-ahead reads 0, page server read-ahead reads 0, lob logical reads 0, lob physical reads 0, lob page server reads 0, lob read-ahead reads 0, lob page server read-ahead reads 0."
                        ]
                    },
                    "metadata": {},
                    "output_type": "display_data"
                },
                {
                    "data": {
                        "text/plain": [
                            "Table 'vector_index_Graph_Edge_table_46623209_1152000'. Scan count 0, logical reads 112, physical reads 59, page server reads 0, read-ahead reads 0, page server read-ahead reads 0, lob logical reads 0, lob physical reads 0, lob page server reads 0, lob read-ahead reads 0, lob page server read-ahead reads 0."
                        ]
                    },
                    "metadata": {},
                    "output_type": "display_data"
                },
                {
                    "data": {
                        "text/csv": [
                            "id,title,distance\r\n",
                            "1778032,\"How to design and develop a web page in asp.net using vb.net?\",0,25530630350112915\r\n",
                            "3059786,\"how to learn web service using vb.net\",0,2572418451309204\r\n"
                        ],
                        "text/html": [
                            "<table><thead><tr><td><span>id</span></td><td><span>title</span></td><td><span>distance</span></td></tr></thead><tbody><tr><td><div class=\"dni-plaintext\"><pre>1778032</pre></div></td><td>How to design and develop a web page in asp.net using vb.net?</td><td>0,25530630350112915</td></tr><tr><td><div class=\"dni-plaintext\"><pre>3059786</pre></div></td><td>how to learn web service using vb.net</td><td>0,2572418451309204</td></tr></tbody></table><style>\r\n",
                            ".dni-code-hint {\r\n",
                            "    font-style: italic;\r\n",
                            "    overflow: hidden;\r\n",
                            "    white-space: nowrap;\r\n",
                            "}\r\n",
                            ".dni-treeview {\r\n",
                            "    white-space: nowrap;\r\n",
                            "}\r\n",
                            ".dni-treeview td {\r\n",
                            "    vertical-align: top;\r\n",
                            "    text-align: start;\r\n",
                            "}\r\n",
                            "details.dni-treeview {\r\n",
                            "    padding-left: 1em;\r\n",
                            "}\r\n",
                            "table td {\r\n",
                            "    text-align: start;\r\n",
                            "}\r\n",
                            "table tr { \r\n",
                            "    vertical-align: top; \r\n",
                            "    margin: 0em 0px;\r\n",
                            "}\r\n",
                            "table tr td pre \r\n",
                            "{ \r\n",
                            "    vertical-align: top !important; \r\n",
                            "    margin: 0em 0px !important;\r\n",
                            "} \r\n",
                            "table th {\r\n",
                            "    text-align: start;\r\n",
                            "}\r\n",
                            "</style>"
                        ]
                    },
                    "metadata": {},
                    "output_type": "display_data"
                }
            ],
            "source": [
                "DECLARE @search_text NVARCHAR(MAX) = 'i want to build a website using visual basic and active server pages'\n",
                "DECLARE @search_vector VECTOR(768) = AI_GENERATE_EMBEDDINGS(@search_text USE MODEL ollama)\n",
                "\n",
                "SELECT\n",
                "    t.id,title,    s.distance\n",
                "FROM vector_search(\n",
                "    table = Posts_Excerpt_large AS t,\n",
                "    column = [embeddings],\n",
                "    similar_to = @search_vector,\n",
                "    metric = 'cosine',\n",
                "    top_n = 2\n",
                ") AS s  \n",
                "ORDER BY s.distance"
            ]
        }
    ],
    "metadata": {
        "kernelspec": {
            "display_name": ".NET (C#)",
            "language": "C#",
            "name": ".net-csharp"
        },
        "language_info": {
            "name": "polyglot-notebook",
            "version": ""
        },
        "polyglot_notebook": {
            "kernelInfo": {
                "defaultKernelName": "csharp",
                "items": [
                    {
                        "aliases": [],
                        "name": "csharp"
                    },
                    {
                        "aliases": [],
                        "languageName": "T-SQL",
                        "name": "sql-sql2025"
                    },
                    {
                        "aliases": [],
                        "languageName": "T-SQL",
                        "name": "sql-sql2025-stackoverflow"
                    }
                ]
            }
        }
    },
    "nbformat": 4,
    "nbformat_minor": 2
}
